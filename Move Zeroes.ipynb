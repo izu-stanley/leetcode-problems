{
 "cells": [
  {
   "cell_type": "markdown",
   "metadata": {},
   "source": [
    "https://leetcode.com/explore/interview/card/top-interview-questions-easy/92/array/567/\n",
    "\n",
    "Move Zeroes\n",
    "Solution\n",
    "Given an array nums, write a function to move all 0's to the end of it while maintaining the relative order of the non-zero elements.\n",
    "\n",
    "Example:\n",
    "\n",
    "Input: [0,1,0,3,12]\n",
    "Output: [1,3,12,0,0]\n",
    "Note:\n",
    "\n",
    "You must do this in-place without making a copy of the array.\n",
    "Minimize the total number of operations."
   ]
  },
  {
   "cell_type": "code",
   "execution_count": 67,
   "metadata": {},
   "outputs": [],
   "source": [
    "def helper(arr):  \n",
    "    count = 0\n",
    "    new = []\n",
    "    for x,y in enumerate(arr):\n",
    "        if y == 0:\n",
    "            count+=1\n",
    "        else:\n",
    "            new.append(y)\n",
    "    new = new + ([0]*count)\n",
    "    arr[:] = new\n",
    "    print(arr)"
   ]
  },
  {
   "cell_type": "code",
   "execution_count": null,
   "metadata": {},
   "outputs": [],
   "source": []
  },
  {
   "cell_type": "code",
   "execution_count": null,
   "metadata": {},
   "outputs": [],
   "source": []
  }
 ],
 "metadata": {
  "kernelspec": {
   "display_name": "Python 3",
   "language": "python",
   "name": "python3"
  },
  "language_info": {
   "codemirror_mode": {
    "name": "ipython",
    "version": 3
   },
   "file_extension": ".py",
   "mimetype": "text/x-python",
   "name": "python",
   "nbconvert_exporter": "python",
   "pygments_lexer": "ipython3",
   "version": "3.7.4"
  }
 },
 "nbformat": 4,
 "nbformat_minor": 2
}
