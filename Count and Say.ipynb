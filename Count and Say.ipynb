{
 "cells": [
  {
   "cell_type": "markdown",
   "metadata": {},
   "source": [
    "https://leetcode.com/explore/interview/card/top-interview-questions-easy/127/strings/886/\n",
    "\n",
    "The count-and-say sequence is the sequence of integers with the first five terms as following:\n",
    "\n",
    "1.     1\n",
    "2.     11\n",
    "3.     21\n",
    "4.     1211\n",
    "5.     111221\n",
    "1 is read off as \"one 1\" or 11.\n",
    "11 is read off as \"two 1s\" or 21.\n",
    "21 is read off as \"one 2, then one 1\" or 1211.\n",
    "\n",
    "Given an integer n where 1 ≤ n ≤ 30, generate the nth term of the count-and-say sequence. You can do so recursively, in other words from the previous member read off the digits, counting the number of digits in groups of the same digit.\n",
    "\n",
    "Note: Each term of the sequence of integers will be represented as a string.\n",
    "\n",
    " \n",
    "\n",
    "Example 1:\n",
    "\n",
    "Input: 1\n",
    "Output: \"1\"\n",
    "Explanation: This is the base case.\n",
    "Example 2:\n",
    "\n",
    "Input: 4\n",
    "Output: \"1211\"\n",
    "Explanation: For n = 3 the term was \"21\" in which we have two groups \"2\" and \"1\", \"2\" can be read as \"12\" which means frequency = 1 and value = 2, the same way \"1\" is read as \"11\", so the answer is the concatenation of \"12\" and \"11\" which is \"1211\""
   ]
  },
  {
   "cell_type": "code",
   "execution_count": 138,
   "metadata": {},
   "outputs": [
    {
     "ename": "KeyboardInterrupt",
     "evalue": "",
     "output_type": "error",
     "traceback": [
      "\u001b[0;31m---------------------------------------------------------------------------\u001b[0m",
      "\u001b[0;31mKeyboardInterrupt\u001b[0m                         Traceback (most recent call last)",
      "\u001b[0;32m<ipython-input-138-719a7a569b74>\u001b[0m in \u001b[0;36m<module>\u001b[0;34m()\u001b[0m\n\u001b[1;32m      9\u001b[0m     \u001b[0;32mreturn\u001b[0m \u001b[0mrez\u001b[0m\u001b[0;34m\u001b[0m\u001b[0;34m\u001b[0m\u001b[0m\n\u001b[1;32m     10\u001b[0m \u001b[0;34m\u001b[0m\u001b[0m\n\u001b[0;32m---> 11\u001b[0;31m \u001b[0mhelper\u001b[0m\u001b[0;34m(\u001b[0m\u001b[0;36m300\u001b[0m\u001b[0;34m)\u001b[0m\u001b[0;34m\u001b[0m\u001b[0;34m\u001b[0m\u001b[0m\n\u001b[0m",
      "\u001b[0;32m<ipython-input-138-719a7a569b74>\u001b[0m in \u001b[0;36mhelper\u001b[0;34m(n)\u001b[0m\n\u001b[1;32m      5\u001b[0m         \u001b[0;32mfor\u001b[0m \u001b[0mx\u001b[0m\u001b[0;34m,\u001b[0m \u001b[0my\u001b[0m \u001b[0;32min\u001b[0m \u001b[0mitertools\u001b[0m\u001b[0;34m.\u001b[0m\u001b[0mgroupby\u001b[0m\u001b[0;34m(\u001b[0m\u001b[0mrez\u001b[0m\u001b[0;34m)\u001b[0m\u001b[0;34m:\u001b[0m\u001b[0;34m\u001b[0m\u001b[0;34m\u001b[0m\u001b[0m\n\u001b[1;32m      6\u001b[0m             \u001b[0mtemp\u001b[0m \u001b[0;34m=\u001b[0m \u001b[0mlen\u001b[0m\u001b[0;34m(\u001b[0m\u001b[0mlist\u001b[0m\u001b[0;34m(\u001b[0m\u001b[0my\u001b[0m\u001b[0;34m)\u001b[0m\u001b[0;34m)\u001b[0m\u001b[0;34m\u001b[0m\u001b[0;34m\u001b[0m\u001b[0m\n\u001b[0;32m----> 7\u001b[0;31m             \u001b[0mi\u001b[0m \u001b[0;34m+=\u001b[0m \u001b[0;34m'{}{}'\u001b[0m\u001b[0;34m.\u001b[0m\u001b[0mformat\u001b[0m\u001b[0;34m(\u001b[0m\u001b[0mtemp\u001b[0m\u001b[0;34m,\u001b[0m \u001b[0mx\u001b[0m\u001b[0;34m)\u001b[0m\u001b[0;34m\u001b[0m\u001b[0;34m\u001b[0m\u001b[0m\n\u001b[0m\u001b[1;32m      8\u001b[0m         \u001b[0mrez\u001b[0m \u001b[0;34m=\u001b[0m \u001b[0mi\u001b[0m\u001b[0;34m\u001b[0m\u001b[0;34m\u001b[0m\u001b[0m\n\u001b[1;32m      9\u001b[0m     \u001b[0;32mreturn\u001b[0m \u001b[0mrez\u001b[0m\u001b[0;34m\u001b[0m\u001b[0;34m\u001b[0m\u001b[0m\n",
      "\u001b[0;31mKeyboardInterrupt\u001b[0m: "
     ]
    }
   ],
   "source": [
    "def helper(n):\n",
    "    rez = \"1\"\n",
    "    for po in range(n-1):\n",
    "        i = '' \n",
    "        for x, y in itertools.groupby(rez):\n",
    "            temp = len(list(y))\n",
    "            i += '{}{}'.format(temp, x) \n",
    "        rez = i \n",
    "    return rez\n",
    "\n",
    "helper(300)"
   ]
  },
  {
   "cell_type": "code",
   "execution_count": 78,
   "metadata": {},
   "outputs": [
    {
     "name": "stdout",
     "output_type": "stream",
     "text": [
      "1 ['1']\n"
     ]
    }
   ],
   "source": [
    "def func(n):\n",
    "    a = []\n",
    "    for x,y in itertools.groupby(n):\n",
    "        a.append(x)\n",
    "        a.append(len(list(y)))\n",
    "        #print(a)\n",
    "    return a"
   ]
  },
  {
   "cell_type": "code",
   "execution_count": 101,
   "metadata": {},
   "outputs": [
    {
     "name": "stdout",
     "output_type": "stream",
     "text": [
      "[1, 1]\n",
      "1 [1, 1]\n",
      "[2, 1]\n",
      "2 [2, 1]\n",
      "[3, 1]\n",
      "3 [3, 1]\n",
      "[4, 1]\n",
      "4 [4, 1]\n"
     ]
    }
   ],
   "source": [
    "def helper(n):\n",
    "    i = 1\n",
    "    j = ''\n",
    "    while i < n:\n",
    "        j = func([i])\n",
    "        print(i,j)\n",
    "        i+=1\n",
    "helper(5)"
   ]
  },
  {
   "cell_type": "code",
   "execution_count": 109,
   "metadata": {},
   "outputs": [],
   "source": [
    "def func(n):\n",
    "    a = []\n",
    "    for x,y in itertools.groupby(n):\n",
    "        a.append(x)\n",
    "        a.append(len(list(y)))\n",
    "        #print(a)\n",
    "    return a"
   ]
  },
  {
   "cell_type": "code",
   "execution_count": null,
   "metadata": {},
   "outputs": [],
   "source": []
  }
 ],
 "metadata": {
  "kernelspec": {
   "display_name": "Python 3",
   "language": "python",
   "name": "python3"
  },
  "language_info": {
   "codemirror_mode": {
    "name": "ipython",
    "version": 3
   },
   "file_extension": ".py",
   "mimetype": "text/x-python",
   "name": "python",
   "nbconvert_exporter": "python",
   "pygments_lexer": "ipython3",
   "version": "3.7.4"
  }
 },
 "nbformat": 4,
 "nbformat_minor": 2
}
