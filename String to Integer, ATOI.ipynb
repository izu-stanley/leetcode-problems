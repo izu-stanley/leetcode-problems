{
 "cells": [
  {
   "cell_type": "markdown",
   "metadata": {},
   "source": [
    "https://leetcode.com/explore/interview/card/top-interview-questions-easy/127/strings/884/\n",
    "\n",
    "Implement atoi which converts a string to an integer.\n",
    "\n",
    "The function first discards as many whitespace characters as necessary until the first non-whitespace character is found. Then, starting from this character, takes an optional initial plus or minus sign followed by as many numerical digits as possible, and interprets them as a numerical value.\n",
    "\n",
    "The string can contain additional characters after those that form the integral number, which are ignored and have no effect on the behavior of this function.\n",
    "\n",
    "If the first sequence of non-whitespace characters in str is not a valid integral number, or if no such sequence exists because either str is empty or it contains only whitespace characters, no conversion is performed.\n",
    "\n",
    "If no valid conversion could be performed, a zero value is returned.\n",
    "\n",
    "Note:\n",
    "\n",
    "Only the space character ' ' is considered as whitespace character.\n",
    "Assume we are dealing with an environment which could only store integers within the 32-bit signed integer range: [−231,  231 − 1]. If the numerical value is out of the range of representable values, INT_MAX (231 − 1) or INT_MIN (−231) is returned.\n",
    "Example 1:\n",
    "\n",
    "Input: \"42\"\n",
    "Output: 42\n",
    "Example 2:\n",
    "\n",
    "Input: \"   -42\"\n",
    "Output: -42\n",
    "Explanation: The first non-whitespace character is '-', which is the minus sign.\n",
    "             Then take as many numerical digits as possible, which gets 42.\n",
    "Example 3:\n",
    "\n",
    "Input: \"4193 with words\"\n",
    "Output: 4193\n",
    "Explanation: Conversion stops at digit '3' as the next character is not a numerical digit.\n",
    "Example 4:\n",
    "\n",
    "Input: \"words and 987\"\n",
    "Output: 0\n",
    "Explanation: The first non-whitespace character is 'w', which is not a numerical \n",
    "             digit or a +/- sign. Therefore no valid conversion could be performed.\n",
    "Example 5:\n",
    "\n",
    "Input: \"-91283472332\"\n",
    "Output: -2147483648\n",
    "Explanation: The number \"-91283472332\" is out of the range of a 32-bit signed integer.\n",
    "             Thefore INT_MIN (−231) is returned."
   ]
  },
  {
   "cell_type": "code",
   "execution_count": 129,
   "metadata": {},
   "outputs": [
    {
     "name": "stdout",
     "output_type": "stream",
     "text": [
      "-55\n"
     ]
    },
    {
     "data": {
      "text/plain": [
       "-54"
      ]
     },
     "execution_count": 129,
     "metadata": {},
     "output_type": "execute_result"
    }
   ],
   "source": [
    "def getNum(s):\n",
    "    counter = 0\n",
    "    s = s.strip()\n",
    "    for x,y in enumerate(s):\n",
    "        if y.isdigit() or y == '-' or y == '+':\n",
    "            counter = x + 1\n",
    "            continue\n",
    "        else:\n",
    "            break\n",
    "    return s[:counter]\n",
    "\n",
    "def convertToInt(number):\n",
    "    \n",
    "    if '+-' in number or '-+' in number: return 0\n",
    "    if number == '-' or number == '' or number == '+': return 0\n",
    "    if '+' in number: number = number.strip('+')\n",
    "\n",
    "    def helper(string):\n",
    "        map = {'9':9,'8':8,'7':7,'6':6,'5':5,'5':5,'4':4,'3':3,'2':2,'1':1,'0':0}\n",
    "        return map[string]\n",
    "    \n",
    "    if len(number) == 1:\n",
    "        return helper(number)\n",
    "    elif len(number) > 1:\n",
    "        length = len(number)\n",
    "        sum = 0\n",
    "        if '-' in number:\n",
    "            for x in range(length-1):   \n",
    "                a = helper(number[x+1])\n",
    "                b = 10**(length-x-2)\n",
    "                sum+=a*b\n",
    "            return (sum-1) * -1\n",
    "        else:\n",
    "            for x in range(length):\n",
    "                a = helper(number[x])\n",
    "                b = 10**(length-x-1)\n",
    "                sum+=a*b\n",
    "            return sum-1\n",
    "\n",
    "def main(string):\n",
    "    \n",
    "    string = getNum(string)\n",
    "    print(string)\n",
    "    #Call Regex Function Here to handle all other edge cases relating to string\n",
    "    number = convertToInt(string)\n",
    "\n",
    "    if number is None:\n",
    "        return ''\n",
    "    if number >= 2**31 :\n",
    "        return 2**31 -1\n",
    "    elif number < -2**31: \n",
    "        return -2**31\n",
    "    else: \n",
    "        return number\n",
    "\n",
    "main(\"5-5\")"
   ]
  },
  {
   "cell_type": "markdown",
   "metadata": {},
   "source": [
    "Buggy, fails some test cases"
   ]
  },
  {
   "cell_type": "code",
   "execution_count": 132,
   "metadata": {},
   "outputs": [
    {
     "name": "stdout",
     "output_type": "stream",
     "text": [
      "['55']\n"
     ]
    }
   ],
   "source": [
    "import re\n",
    "def regexCheck(s):\n",
    "    if \n",
    "    x = re.split(r\"\\B-\", s)\n",
    "    print(x)\n",
    "    \n",
    "regexCheck('55')"
   ]
  },
  {
   "cell_type": "code",
   "execution_count": 119,
   "metadata": {},
   "outputs": [
    {
     "data": {
      "text/plain": [
       "['1', '2', '3']"
      ]
     },
     "execution_count": 119,
     "metadata": {},
     "output_type": "execute_result"
    }
   ],
   "source": [
    "re.findall(\"[0123]\", '123455667')\n"
   ]
  },
  {
   "cell_type": "code",
   "execution_count": 135,
   "metadata": {},
   "outputs": [
    {
     "data": {
      "text/plain": [
       "['', '9999']"
      ]
     },
     "execution_count": 135,
     "metadata": {},
     "output_type": "execute_result"
    }
   ],
   "source": [
    "re.split('[^0-9]+', '-9999')"
   ]
  },
  {
   "cell_type": "code",
   "execution_count": null,
   "metadata": {},
   "outputs": [],
   "source": []
  },
  {
   "cell_type": "code",
   "execution_count": null,
   "metadata": {},
   "outputs": [],
   "source": []
  }
 ],
 "metadata": {
  "kernelspec": {
   "display_name": "Python 3",
   "language": "python",
   "name": "python3"
  },
  "language_info": {
   "codemirror_mode": {
    "name": "ipython",
    "version": 3
   },
   "file_extension": ".py",
   "mimetype": "text/x-python",
   "name": "python",
   "nbconvert_exporter": "python",
   "pygments_lexer": "ipython3",
   "version": "3.7.4"
  }
 },
 "nbformat": 4,
 "nbformat_minor": 2
}
