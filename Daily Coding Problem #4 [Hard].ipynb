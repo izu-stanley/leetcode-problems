{
 "cells": [
  {
   "cell_type": "markdown",
   "metadata": {},
   "source": [
    "Good morning! Here's your coding interview problem for today.\n",
    "\n",
    "This problem was asked by Stripe.\n",
    "\n",
    "Given an array of integers, find the first missing positive integer in linear time and constant space. In other words, find the lowest positive integer that does not exist in the array. The array can contain duplicates and negative numbers as well.\n",
    "\n",
    "For example, the input [3, 4, -1, 1] should give 2. The input [1, 2, 0] should give 3.\n",
    "\n",
    "You can modify the input array in-place."
   ]
  },
  {
   "cell_type": "code",
   "execution_count": 23,
   "metadata": {},
   "outputs": [
    {
     "data": {
      "text/plain": [
       "2"
      ]
     },
     "execution_count": 23,
     "metadata": {},
     "output_type": "execute_result"
    }
   ],
   "source": [
    "def helper(arr):\n",
    "    arr[:] = list(set(arr))\n",
    "    arr.sort()\n",
    "    start = 1\n",
    "\n",
    "    for num in range(len(arr)):\n",
    "        if arr[num] > 0:\n",
    "            if arr[num] == start:\n",
    "                pass\n",
    "            else:\n",
    "                return start\n",
    "            start+=1\n",
    "        else:\n",
    "            pass\n",
    "    return start\n",
    "helper([1, 1, 0, -1, -2, 1 ])"
   ]
  },
  {
   "cell_type": "code",
   "execution_count": null,
   "metadata": {},
   "outputs": [],
   "source": []
  }
 ],
 "metadata": {
  "kernelspec": {
   "display_name": "Python 3",
   "language": "python",
   "name": "python3"
  },
  "language_info": {
   "codemirror_mode": {
    "name": "ipython",
    "version": 3
   },
   "file_extension": ".py",
   "mimetype": "text/x-python",
   "name": "python",
   "nbconvert_exporter": "python",
   "pygments_lexer": "ipython3",
   "version": "3.7.4"
  }
 },
 "nbformat": 4,
 "nbformat_minor": 2
}
