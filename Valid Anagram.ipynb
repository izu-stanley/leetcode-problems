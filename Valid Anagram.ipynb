{
 "cells": [
  {
   "cell_type": "markdown",
   "metadata": {},
   "source": [
    "https://leetcode.com/explore/interview/card/top-interview-questions-easy/127/strings/882/\n",
    "    \n",
    "Given two strings s and t , write a function to determine if t is an anagram of s.\n",
    "\n",
    "Example 1:\n",
    "\n",
    "Input: s = \"anagram\", t = \"nagaram\"\n",
    "Output: true\n",
    "Example 2:\n",
    "\n",
    "Input: s = \"rat\", t = \"car\"\n",
    "Output: false\n",
    "Note:\n",
    "You may assume the string contains only lowercase alphabets.\n",
    "\n",
    "Follow up:\n",
    "What if the inputs contain unicode characters? How would you adapt your solution to such case?"
   ]
  },
  {
   "cell_type": "code",
   "execution_count": 9,
   "metadata": {},
   "outputs": [
    {
     "data": {
      "text/plain": [
       "False"
      ]
     },
     "execution_count": 9,
     "metadata": {},
     "output_type": "execute_result"
    }
   ],
   "source": [
    "def helper(s,t):\n",
    "    hash_map = {}\n",
    "    for x,y in enumerate(s):\n",
    "        hash_map[y] = x\n",
    "\n",
    "    for x in t:\n",
    "        try:\n",
    "            hash_map[x]\n",
    "        except KeyError:\n",
    "            return False\n",
    "        \n",
    "    return True\n",
    "    \n",
    "helper('car','rat')"
   ]
  },
  {
   "cell_type": "code",
   "execution_count": 43,
   "metadata": {},
   "outputs": [
    {
     "data": {
      "text/plain": [
       "False"
      ]
     },
     "execution_count": 43,
     "metadata": {},
     "output_type": "execute_result"
    }
   ],
   "source": [
    "def helper(str1,str2):\n",
    "    if len(str1) != len(str2): return False\n",
    "    \n",
    "    str1 = list(str1)\n",
    "    str2 = list(str2)\n",
    "\n",
    "    for ele in str2:\n",
    "        if ele in str1:\n",
    "            str1.remove(ele)\n",
    "        else:\n",
    "            return False\n",
    "    return True\n",
    "        \n",
    "\n",
    "helper('ab','a')"
   ]
  },
  {
   "cell_type": "code",
   "execution_count": null,
   "metadata": {},
   "outputs": [],
   "source": []
  },
  {
   "cell_type": "code",
   "execution_count": 44,
   "metadata": {},
   "outputs": [
    {
     "data": {
      "text/plain": [
       "True"
      ]
     },
     "execution_count": 44,
     "metadata": {},
     "output_type": "execute_result"
    }
   ],
   "source": [
    "def helper(str1,str2):\n",
    "    if len(str1) != len(str2): return False\n",
    "    \n",
    "    str1 = sorted(str1)\n",
    "    str2 = sorted(str1)\n",
    "    \n",
    "    if str1 == str2:\n",
    "        return True\n",
    "    return False\n",
    "\n",
    "helper('anagram','nagaram')"
   ]
  },
  {
   "cell_type": "code",
   "execution_count": 45,
   "metadata": {},
   "outputs": [
    {
     "data": {
      "text/plain": [
       "True"
      ]
     },
     "execution_count": 45,
     "metadata": {},
     "output_type": "execute_result"
    }
   ],
   "source": [
    "from collections import Counter\n",
    "def helper(str1,str2):\n",
    "    if len(str1) != len(str2): return False\n",
    "    \n",
    "    str1 = Counter(str1)\n",
    "    str2 = Counter(str2)\n",
    "    \n",
    "    for x,y in str1.items():\n",
    "        if y != str2[x]:\n",
    "            return False\n",
    "    return True\n",
    "\n",
    "helper('anagram','nagaram')"
   ]
  },
  {
   "cell_type": "code",
   "execution_count": null,
   "metadata": {},
   "outputs": [],
   "source": []
  }
 ],
 "metadata": {
  "kernelspec": {
   "display_name": "Python 3",
   "language": "python",
   "name": "python3"
  },
  "language_info": {
   "codemirror_mode": {
    "name": "ipython",
    "version": 3
   },
   "file_extension": ".py",
   "mimetype": "text/x-python",
   "name": "python",
   "nbconvert_exporter": "python",
   "pygments_lexer": "ipython3",
   "version": "3.7.4"
  }
 },
 "nbformat": 4,
 "nbformat_minor": 2
}
