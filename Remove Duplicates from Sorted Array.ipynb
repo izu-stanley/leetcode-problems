{
 "cells": [
  {
   "cell_type": "code",
   "execution_count": 1,
   "metadata": {
    "collapsed": true
   },
   "outputs": [
    {
     "data": {
      "text/plain": [
       "\"\\nLink to problem: https://leetcode.com/explore/interview/card/top-interview-questions-easy/92/array/727/\\n\\nGiven a sorted array nums, remove the duplicates in-place such that each element appear only once and return the new length.\\n\\nDo not allocate extra space for another array, you must do this by modifying the input array in-place with O(1) extra memory.\\n\\nExample 1:\\n\\nGiven nums = [1,1,2],\\n\\nYour function should return length = 2, with the first two elements of nums being 1 and 2 respectively.\\n\\nIt doesn't matter what you leave beyond the returned length.\\nExample 2:\\n\\nGiven nums = [0,0,1,1,1,2,2,3,3,4],\\n\\nYour function should return length = 5, with the first five elements of nums being modified to 0, 1, 2, 3, and 4 respectively.\\n\\nIt doesn't matter what values are set beyond the returned length.\\nClarification:\\n\\nConfused why the returned value is an integer but your answer is an array?\\n\\nNote that the input array is passed in by reference, which means modification to the input array will be known to the caller as well.\\n\\nInternally you can think of this:\\n\\n// nums is passed in by reference. (i.e., without making a copy)\\nint len = removeDuplicates(nums);\\n\\n// any modification to nums in your function would be known by the caller.\\n// using the length returned by your function, it prints the first len elements.\\nfor (int i = 0; i < len; i++) {\\n    print(nums[i]);\\n}\\n\""
      ]
     },
     "execution_count": 1,
     "metadata": {},
     "output_type": "execute_result"
    }
   ],
   "source": [
    "'''\n",
    "Link to problem: https://leetcode.com/explore/interview/card/top-interview-questions-easy/92/array/727/\n",
    "\n",
    "Given a sorted array nums, remove the duplicates in-place such that each element appear only once and return the new length.\n",
    "\n",
    "Do not allocate extra space for another array, you must do this by modifying the input array in-place with O(1) extra memory.\n",
    "\n",
    "Example 1:\n",
    "\n",
    "Given nums = [1,1,2],\n",
    "\n",
    "Your function should return length = 2, with the first two elements of nums being 1 and 2 respectively.\n",
    "\n",
    "It doesn't matter what you leave beyond the returned length.\n",
    "Example 2:\n",
    "\n",
    "Given nums = [0,0,1,1,1,2,2,3,3,4],\n",
    "\n",
    "Your function should return length = 5, with the first five elements of nums being modified to 0, 1, 2, 3, and 4 respectively.\n",
    "\n",
    "It doesn't matter what values are set beyond the returned length.\n",
    "Clarification:\n",
    "\n",
    "Confused why the returned value is an integer but your answer is an array?\n",
    "\n",
    "Note that the input array is passed in by reference, which means modification to the input array will be known to the caller as well.\n",
    "\n",
    "Internally you can think of this:\n",
    "\n",
    "// nums is passed in by reference. (i.e., without making a copy)\n",
    "int len = removeDuplicates(nums);\n",
    "\n",
    "// any modification to nums in your function would be known by the caller.\n",
    "// using the length returned by your function, it prints the first len elements.\n",
    "for (int i = 0; i < len; i++) {\n",
    "    print(nums[i]);\n",
    "}\n",
    "'''"
   ]
  },
  {
   "cell_type": "code",
   "execution_count": 14,
   "metadata": {},
   "outputs": [
    {
     "name": "stdout",
     "output_type": "stream",
     "text": [
      "2 0\n",
      "5 1\n",
      "7 2\n",
      "9 3\n"
     ]
    },
    {
     "data": {
      "text/plain": [
       "5"
      ]
     },
     "execution_count": 14,
     "metadata": {},
     "output_type": "execute_result"
    }
   ],
   "source": [
    "def solution(array):\n",
    "    curr = 0\n",
    "    for now in range(len(array)):\n",
    "        if array[now] != array[curr]:\n",
    "            curr+=1\n",
    "            array[curr] = array[now]\n",
    "    return curr+1\n",
    "        \n",
    "        \n",
    "solution([0,0,1,1,1,2,2,3,3,4])"
   ]
  },
  {
   "cell_type": "code",
   "execution_count": null,
   "metadata": {},
   "outputs": [],
   "source": [
    "'''\n",
    "Time Complexity == O(n)\n",
    "Space Complexity == O(1)\n",
    "'''"
   ]
  }
 ],
 "metadata": {
  "kernelspec": {
   "display_name": "Python 3",
   "language": "python",
   "name": "python3"
  },
  "language_info": {
   "codemirror_mode": {
    "name": "ipython",
    "version": 3
   },
   "file_extension": ".py",
   "mimetype": "text/x-python",
   "name": "python",
   "nbconvert_exporter": "python",
   "pygments_lexer": "ipython3",
   "version": "3.7.4"
  }
 },
 "nbformat": 4,
 "nbformat_minor": 2
}
