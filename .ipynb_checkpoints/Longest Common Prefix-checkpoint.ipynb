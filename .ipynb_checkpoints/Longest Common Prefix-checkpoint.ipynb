{
 "cells": [
  {
   "cell_type": "markdown",
   "metadata": {},
   "source": [
    "Longest Common Prefix\n",
    "\n",
    "Write a function to find the longest common prefix string amongst an array of strings.\n",
    "\n",
    "If there is no common prefix, return an empty string \"\".\n",
    "\n",
    "Example 1:\n",
    "\n",
    "Input: [\"flower\",\"flow\",\"flight\"]\n",
    "Output: \"fl\"\n",
    "Example 2:\n",
    "\n",
    "Input: [\"dog\",\"racecar\",\"car\"]\n",
    "Output: \"\"\n",
    "Explanation: There is no common prefix among the input strings.\n",
    "Note:\n",
    "\n",
    "All given inputs are in lowercase letters a-z."
   ]
  },
  {
   "cell_type": "code",
   "execution_count": 102,
   "metadata": {},
   "outputs": [
    {
     "data": {
      "text/plain": [
       "'fl'"
      ]
     },
     "execution_count": 102,
     "metadata": {},
     "output_type": "execute_result"
    }
   ],
   "source": [
    "def helper(strs):\n",
    "    prefix = strs[0] if strs else ''\n",
    "    while True:\n",
    "        if all(s.startswith(prefix) for s in strs):\n",
    "            return prefix\n",
    "        prefix = prefix[:-1]\n",
    "    \n",
    "    \n",
    "helper(['flower','flow','flight'])"
   ]
  },
  {
   "cell_type": "code",
   "execution_count": 94,
   "metadata": {},
   "outputs": [
    {
     "data": {
      "text/plain": [
       "'aa'"
      ]
     },
     "execution_count": 94,
     "metadata": {},
     "output_type": "execute_result"
    }
   ],
   "source": [
    "from collections import Counter\n",
    "import itertools\n",
    "\n",
    "\n",
    "def helper(arr):\n",
    "    if len(arr) == 0: return ''\n",
    "    if len(arr) == 1: return arr[0]\n",
    "    \n",
    "    for a, b in itertools.combinations(arr, 2):\n",
    "        if a == b:\n",
    "            return a\n",
    "    for count in range(100000):\n",
    "        try:\n",
    "            i=[]\n",
    "            for word in arr:\n",
    "                i.append(word[count])\n",
    "            if len(set(i)) != 1:\n",
    "                return arr[0][:count]\n",
    "            else:\n",
    "                pass\n",
    "        except IndexError:\n",
    "            c = count-1\n",
    "            return arr[0][c:]\n",
    "\n",
    "\n",
    "    \n",
    "    \n",
    "helper([\"aa\",\"a\"])"
   ]
  },
  {
   "cell_type": "code",
   "execution_count": 103,
   "metadata": {},
   "outputs": [
    {
     "data": {
      "text/plain": [
       "''"
      ]
     },
     "execution_count": 103,
     "metadata": {},
     "output_type": "execute_result"
    }
   ],
   "source": [
    "def helper(arr):\n",
    "    i=0\n",
    "    j = 0\n",
    "    k = len(arr)\n",
    "    count = len(arr)\n",
    "    for ele in range(count):\n",
    "        arr\n",
    "    for x in range(10000000):\n",
    "        try:\n",
    "            if arr[0][x] == arr[1][x] == arr[2][x]:\n",
    "                i+=1       \n",
    "                print(i)\n",
    "        except IndexError:\n",
    "            if i != 0: return arr[0][:i]\n",
    "            else: return ''\n",
    "\n",
    "    \n",
    "helper([\"aa\",\"aa\"])"
   ]
  },
  {
   "cell_type": "code",
   "execution_count": null,
   "metadata": {},
   "outputs": [],
   "source": []
  },
  {
   "cell_type": "code",
   "execution_count": null,
   "metadata": {},
   "outputs": [],
   "source": []
  },
  {
   "cell_type": "code",
   "execution_count": null,
   "metadata": {},
   "outputs": [],
   "source": []
  },
  {
   "cell_type": "code",
   "execution_count": null,
   "metadata": {},
   "outputs": [],
   "source": []
  },
  {
   "cell_type": "code",
   "execution_count": null,
   "metadata": {},
   "outputs": [],
   "source": []
  },
  {
   "cell_type": "code",
   "execution_count": null,
   "metadata": {},
   "outputs": [],
   "source": []
  },
  {
   "cell_type": "code",
   "execution_count": null,
   "metadata": {},
   "outputs": [],
   "source": []
  }
 ],
 "metadata": {
  "kernelspec": {
   "display_name": "Python 3",
   "language": "python",
   "name": "python3"
  },
  "language_info": {
   "codemirror_mode": {
    "name": "ipython",
    "version": 3
   },
   "file_extension": ".py",
   "mimetype": "text/x-python",
   "name": "python",
   "nbconvert_exporter": "python",
   "pygments_lexer": "ipython3",
   "version": "3.7.4"
  }
 },
 "nbformat": 4,
 "nbformat_minor": 2
}
