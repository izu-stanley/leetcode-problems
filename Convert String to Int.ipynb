{
 "cells": [
  {
   "cell_type": "code",
   "execution_count": 90,
   "metadata": {},
   "outputs": [
    {
     "data": {
      "text/plain": [
       "4848403992"
      ]
     },
     "execution_count": 90,
     "metadata": {},
     "output_type": "execute_result"
    }
   ],
   "source": [
    "dates = generateDates()\n",
    "    for disco in discos:\n",
    "        for date_pair in dates:"
   ]
  },
  {
   "cell_type": "code",
   "execution_count": null,
   "metadata": {},
   "outputs": [],
   "source": []
  },
  {
   "cell_type": "code",
   "execution_count": null,
   "metadata": {},
   "outputs": [],
   "source": [
    "def advancePairByMonth(pair, month):\n",
    "    a = datetime.datetime.strptime(pair[0], '%Y-%m-%d') + relativedelta(months=month)\n",
    "    if a > datetime.datetime.now():\n",
    "        return None\n",
    "    else:\n",
    "        a = str(a).split(' ')[0]\n",
    "    \n",
    "    b = datetime.datetime.strptime(pair[1], '%Y-%m-%d') + relativedelta(months=month)\n",
    "    if b > datetime.datetime.now():\n",
    "        return None\n",
    "    else:\n",
    "        b = str(b).split(' ')[0]\n",
    "    return (a,b)"
   ]
  },
  {
   "cell_type": "code",
   "execution_count": null,
   "metadata": {},
   "outputs": [],
   "source": [
    "(datetime.datetime.now() - datetime.datetime.strptime('2010-01-01', '%Y-%m-%d')).days"
   ]
  },
  {
   "cell_type": "code",
   "execution_count": null,
   "metadata": {},
   "outputs": [],
   "source": [
    "def month_diff(a, b):\n",
    "    return 12 * (a.dt.year - b.dt.year) + (a.dt.month - b.dt.month)\n",
    "\n",
    "month_diff(datetime.datetime.now(), datetime.datetime.strptime('2010-01-01', '%Y-%m-%d'))"
   ]
  },
  {
   "cell_type": "code",
   "execution_count": null,
   "metadata": {},
   "outputs": [],
   "source": []
  },
  {
   "cell_type": "code",
   "execution_count": null,
   "metadata": {},
   "outputs": [],
   "source": []
  },
  {
   "cell_type": "code",
   "execution_count": null,
   "metadata": {},
   "outputs": [],
   "source": []
  }
 ],
 "metadata": {
  "kernelspec": {
   "display_name": "Python 3",
   "language": "python",
   "name": "python3"
  },
  "language_info": {
   "codemirror_mode": {
    "name": "ipython",
    "version": 3
   },
   "file_extension": ".py",
   "mimetype": "text/x-python",
   "name": "python",
   "nbconvert_exporter": "python",
   "pygments_lexer": "ipython3",
   "version": "3.7.4"
  }
 },
 "nbformat": 4,
 "nbformat_minor": 2
}
