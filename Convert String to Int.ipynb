{
 "cells": [
  {
   "cell_type": "code",
   "execution_count": 4,
   "metadata": {},
   "outputs": [
    {
     "data": {
      "text/plain": [
       "4848403992"
      ]
     },
     "execution_count": 4,
     "metadata": {},
     "output_type": "execute_result"
    }
   ],
   "source": [
    "def convertToInt(number):\n",
    "    def helper(string):\n",
    "        map = {'9':9,'8':8,'7':7,'6':6,'5':5,'5':5,'4':4,'3':3,'2':2,'1':1,'0':0}\n",
    "        return map[string]\n",
    "\n",
    "    if len(number) == 1:\n",
    "        return helper(number)\n",
    "    elif len(number) > 1:\n",
    "        length = len(number)\n",
    "        sum = 0\n",
    "        if '-' in number:\n",
    "            for x in range(length-1):   \n",
    "                a = helper(number[x+1])\n",
    "                b = 10**(length-x-2)\n",
    "                sum+=a*b\n",
    "            return sum * -1\n",
    "        else:\n",
    "            for x in range(length):\n",
    "                a = helper(number[x])\n",
    "                b = 10**(length-x-1)\n",
    "                sum+=a*b\n",
    "            return sum\n",
    "\n",
    "convertToInt('4848403992')"
   ]
  },
  {
   "cell_type": "code",
   "execution_count": 8,
   "metadata": {},
   "outputs": [
    {
     "data": {
      "text/plain": [
       "-44"
      ]
     },
     "execution_count": 8,
     "metadata": {},
     "output_type": "execute_result"
    }
   ],
   "source": [
    "int('-44')"
   ]
  },
  {
   "cell_type": "code",
   "execution_count": null,
   "metadata": {},
   "outputs": [],
   "source": []
  },
  {
   "cell_type": "code",
   "execution_count": null,
   "metadata": {},
   "outputs": [],
   "source": []
  },
  {
   "cell_type": "code",
   "execution_count": null,
   "metadata": {},
   "outputs": [],
   "source": []
  },
  {
   "cell_type": "code",
   "execution_count": null,
   "metadata": {},
   "outputs": [],
   "source": []
  },
  {
   "cell_type": "code",
   "execution_count": null,
   "metadata": {},
   "outputs": [],
   "source": []
  },
  {
   "cell_type": "code",
   "execution_count": null,
   "metadata": {},
   "outputs": [],
   "source": []
  }
 ],
 "metadata": {
  "kernelspec": {
   "display_name": "Python 3",
   "language": "python",
   "name": "python3"
  },
  "language_info": {
   "codemirror_mode": {
    "name": "ipython",
    "version": 3
   },
   "file_extension": ".py",
   "mimetype": "text/x-python",
   "name": "python",
   "nbconvert_exporter": "python",
   "pygments_lexer": "ipython3",
   "version": "3.7.4"
  }
 },
 "nbformat": 4,
 "nbformat_minor": 2
}
