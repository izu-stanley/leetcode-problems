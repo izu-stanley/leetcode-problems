{
 "cells": [
  {
   "cell_type": "markdown",
   "metadata": {
    "collapsed": true
   },
   "source": [
    "\n",
    "https://leetcode.com/explore/interview/card/top-interview-questions-easy/92/array/546/\n",
    "\n",
    "Given an array of integers, return indices of the two numbers such that they add up to a specific target.\n",
    "\n",
    "You may assume that each input would have exactly one solution, and you may not use the same element twice.\n",
    "\n",
    "Example:\n",
    "\n",
    "Given nums = [2, 7, 11, 15], target = 9,\n",
    "\n",
    "Because nums[0] + nums[1] = 2 + 7 = 9,\n",
    "return [0, 1]\n"
   ]
  },
  {
   "cell_type": "markdown",
   "metadata": {},
   "source": [
    "Working Solution but slow, o(n^2)\n",
    "Brute Force"
   ]
  },
  {
   "cell_type": "code",
   "execution_count": 149,
   "metadata": {},
   "outputs": [
    {
     "data": {
      "text/plain": [
       "[0, 1]"
      ]
     },
     "execution_count": 149,
     "metadata": {},
     "output_type": "execute_result"
    }
   ],
   "source": [
    "\n",
    "def helper(arr,target):\n",
    "\n",
    "    for i in range(len(arr)):\n",
    "        for j in range(len(arr[1:])):\n",
    "            if i > 0 and j < i:\n",
    "                continue\n",
    "            if arr[i]+arr[j+1] == target:\n",
    "                return [i,j+1]\n",
    "            #print(i,j,arr[i],arr[j+1],arr[i]+arr[j+1])\n",
    "\n",
    "helper([2, 7, 11, 15],9)\n",
    "        "
   ]
  },
  {
   "cell_type": "markdown",
   "metadata": {},
   "source": [
    "Working O(n) solution using hash maps"
   ]
  },
  {
   "cell_type": "code",
   "execution_count": 1,
   "metadata": {},
   "outputs": [
    {
     "name": "stdout",
     "output_type": "stream",
     "text": [
      "dict_keys([3, 1, 2, 4])\n"
     ]
    },
    {
     "data": {
      "text/plain": [
       "[0, 8]"
      ]
     },
     "execution_count": 1,
     "metadata": {},
     "output_type": "execute_result"
    }
   ],
   "source": [
    "from collections import Counter\n",
    "def helper(arr,target):\n",
    "    hash_map = {}\n",
    "    for x,y in enumerate(arr):\n",
    "        hash_map[y] = x\n",
    "    \n",
    "    counter_dict = Counter(arr)\n",
    "    for x,y in enumerate(arr):\n",
    "        search = target - y\n",
    "        if search == y and counter_dict[search] < 2:\n",
    "            continue\n",
    "            \n",
    "        temp_arr = arr.copy()\n",
    "        temp_arr.pop(x)\n",
    "        print(hash_map.keys())\n",
    "        if search in hash_map.keys():\n",
    "            return [x,hash_map[search]]\n",
    "        \n",
    "        \n",
    "helper([3,1,1,1,1,1,2,2,3,2,1,2,2,4],6)"
   ]
  },
  {
   "cell_type": "code",
   "execution_count": null,
   "metadata": {},
   "outputs": [],
   "source": []
  }
 ],
 "metadata": {
  "kernelspec": {
   "display_name": "Python 3",
   "language": "python",
   "name": "python3"
  },
  "language_info": {
   "codemirror_mode": {
    "name": "ipython",
    "version": 3
   },
   "file_extension": ".py",
   "mimetype": "text/x-python",
   "name": "python",
   "nbconvert_exporter": "python",
   "pygments_lexer": "ipython3",
   "version": "3.7.4"
  }
 },
 "nbformat": 4,
 "nbformat_minor": 2
}
