{
 "cells": [
  {
   "cell_type": "markdown",
   "metadata": {},
   "source": [
    "https://leetcode.com/explore/featured/card/top-interview-questions-easy/92/array/674/\n",
    "    \n",
    "Given two arrays, write a function to compute their intersection.\n",
    "\n",
    "Example 1:\n",
    "\n",
    "Input: nums1 = [1,2,2,1], nums2 = [2,2]\n",
    "Output: [2,2]\n",
    "Example 2:\n",
    "\n",
    "Input: nums1 = [4,9,5], nums2 = [9,4,9,8,4]\n",
    "Output: [4,9]\n",
    "Note:\n",
    "\n",
    "Each element in the result should appear as many times as it shows in both arrays.\n",
    "The result can be in any order.\n",
    "Follow up:\n",
    "\n",
    "What if the given array is already sorted? How would you optimize your algorithm?\n",
    "What if nums1's size is small compared to nums2's size? Which algorithm is better?\n",
    "What if elements of nums2 are stored on disk, and the memory is limited such that you cannot load all elements into the memory at once?"
   ]
  },
  {
   "cell_type": "code",
   "execution_count": 56,
   "metadata": {},
   "outputs": [
    {
     "data": {
      "text/plain": [
       "[3, 3, 3]"
      ]
     },
     "execution_count": 56,
     "metadata": {},
     "output_type": "execute_result"
    }
   ],
   "source": [
    "def helper(arr_1,arr_2):\n",
    "    hash_map = {}\n",
    "    answer = []\n",
    "    if len(arr_2) > len(arr_1):\n",
    "        for x,y in enumerate(arr_2):\n",
    "            hash_map[x] = y\n",
    "        for x,y in enumerate(arr_1):\n",
    "            if y in hash_map.values():\n",
    "                answer.append(y)\n",
    "        if (len(arr_1) == 1 or len(arr_2) == 1) and len(answer) > 1:\n",
    "            return list(answer[0])\n",
    "                \n",
    "    elif len(arr_2) <= len(arr_1):\n",
    "        for x,y in enumerate(arr_1):\n",
    "            hash_map[x] = y\n",
    "        for x,y in enumerate(arr_2):\n",
    "            if y in hash_map.values():\n",
    "                answer.append(y)\n",
    "        if (len(arr_1) == 1 or len(arr_2) == 1) and len(answer) > 1:\n",
    "            return list(answer[0])    \n",
    "    else:\n",
    "        return []\n",
    "\n",
    "    return answer\n",
    "    \n",
    "#helper([9,4,9,8,4],[4,9,5])\n",
    "helper([3,3,3],\n",
    "[2,2,3,3])"
   ]
  },
  {
   "cell_type": "markdown",
   "metadata": {},
   "source": [
    "Buggy, fails certain test cases\n",
    "Current time complexity, O(n)"
   ]
  },
  {
   "cell_type": "code",
   "execution_count": null,
   "metadata": {},
   "outputs": [],
   "source": []
  },
  {
   "cell_type": "code",
   "execution_count": null,
   "metadata": {},
   "outputs": [],
   "source": []
  }
 ],
 "metadata": {
  "kernelspec": {
   "display_name": "Python 3",
   "language": "python",
   "name": "python3"
  },
  "language_info": {
   "codemirror_mode": {
    "name": "ipython",
    "version": 3
   },
   "file_extension": ".py",
   "mimetype": "text/x-python",
   "name": "python",
   "nbconvert_exporter": "python",
   "pygments_lexer": "ipython3",
   "version": "3.7.4"
  }
 },
 "nbformat": 4,
 "nbformat_minor": 2
}
